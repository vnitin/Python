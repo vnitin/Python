{
 "cells": [
  {
   "cell_type": "code",
   "execution_count": 1,
   "metadata": {},
   "outputs": [
    {
     "name": "stdout",
     "output_type": "stream",
     "text": [
      "r\n",
      "g\n",
      "m\n"
     ]
    }
   ],
   "source": [
    "# Program number 1\n",
    "strwithduplicates = \"Programming\"\n",
    "for index,value in enumerate(strwithduplicates):\n",
    "\tfor dupindex,duplicate in enumerate(strwithduplicates[index+1:]):\n",
    "\t\tif value == duplicate:\n",
    "\t\t\tprint(duplicate)\n",
    "\t\t\tbreak"
   ]
  },
  {
   "cell_type": "code",
   "execution_count": 2,
   "metadata": {},
   "outputs": [
    {
     "name": "stdout",
     "output_type": "stream",
     "text": [
      "Strings are anagrams of each other\n"
     ]
    }
   ],
   "source": [
    "# program number 2\n",
    "str1 = \"Army\"\n",
    "str2 = \"Mary\"\n",
    "str1 = str1.lower()\n",
    "str1 = str1.strip()\n",
    "str2 = str2.lower()\n",
    "str2 = str2.strip()\n",
    "l1 = []\n",
    "lenghtofstr1 = 0\n",
    "lenghtofstr2 = 0\n",
    "l2 = []\n",
    "for value in str1:\n",
    "\tif value == \".\" or value == \",\" or value == \"(\" or value == \")\" or value == \" \":\n",
    "\t\tcontinue\n",
    "\telse:\n",
    "\t\tl1.append(value)\n",
    "\t\tlenghtofstr1 += 1\n",
    "\n",
    "for value in str2:\n",
    "\tif value == \".\" or value == \",\" or value == \"(\" or value == \")\" or value == \" \":\n",
    "\t\tcontinue\n",
    "\telse:\n",
    "\t\tl2.append(value)\n",
    "\t\tlenghtofstr2 += 1\n",
    "match1 = 0\n",
    "match2 = lenghtofstr2\n",
    "if lenghtofstr1 != lenghtofstr2:\n",
    "\tprint(\"Strings are not anagram\")\n",
    "else:\n",
    "\tfor index, firststringvalue in enumerate(l1):\n",
    "\t\tmatch1 += 1\n",
    "\t\tfor index1, secondval in enumerate(l2):\n",
    "\t\t\tif firststringvalue == secondval:\n",
    "\t\t\t\tl2.pop(index1)\n",
    "\t\t\t\tmatch2 -= 1\n",
    "\t\t\t\tbreak\n",
    "\n",
    "if (match2 + lenghtofstr2) == match1:\n",
    "\tprint(\"Strings are anagrams of each other\")\n",
    "else:\n",
    "\tprint(\"Strings are not anagrams of each other\")"
   ]
  },
  {
   "cell_type": "code",
   "execution_count": 3,
   "metadata": {},
   "outputs": [
    {
     "name": "stdout",
     "output_type": "stream",
     "text": [
      "Sequence in third string matched with first & second string\n"
     ]
    }
   ],
   "source": [
    "# program number 3\n",
    "first = \"abc\"\n",
    "second = \"def\"\n",
    "third = \"dabecf\"\n",
    "tempthird = third\n",
    "matchFoundforsecond = False\n",
    "matchFoundforfirst = False\n",
    "\n",
    "for val in first:\n",
    "\temptyStr = \"_\"\n",
    "\ttable = str.maketrans(val,emptyStr)\n",
    "\tresult = tempthird.translate(table)\n",
    "\ttempthird = result.replace(\"_\",\"\")\n",
    "\tif tempthird == second:\n",
    "\t\tmatchFoundforsecond = True\n",
    "\t\tbreak\n",
    "\n",
    "tempthird = third\n",
    "for val in second:\n",
    "\temptyStr = \"_\"\n",
    "\ttable = str.maketrans(val,emptyStr)\n",
    "\tresult = tempthird.translate(table)\n",
    "\ttempthird = result.replace(\"_\",\"\")\n",
    "\tif tempthird == first:\n",
    "\t\tmatchFoundforfirst = True\n",
    "\t\tbreak\n",
    "\n",
    "if matchFoundforfirst and matchFoundforsecond:\n",
    "\tprint(\"Sequence in third string matched with first & second string\")\n",
    "else:\n",
    "\tprint(\"Sequence is not maintained in third string\")"
   ]
  },
  {
   "cell_type": "code",
   "execution_count": 4,
   "metadata": {},
   "outputs": [
    {
     "name": "stdout",
     "output_type": "stream",
     "text": [
      "a\n"
     ]
    }
   ],
   "source": [
    "#program number 4\n",
    "inputString = \"aaaaaaaabbbcddddeeee\"\n",
    "prevvalue = \"\"\n",
    "t = (\"\",0)\n",
    "for index,value in enumerate(inputString):\n",
    "\tif prevvalue == value:\n",
    "\t\tcontinue\n",
    "\tprevvalue = value\n",
    "\tfindvalue = inputString.count(value)\n",
    "\tnewstring = inputString[findvalue:]\n",
    "\tinputString = newstring\n",
    "\tif findvalue > t[1]:\n",
    "\t\tt = (value,findvalue)\n",
    "print(t[0])"
   ]
  },
  {
   "cell_type": "code",
   "execution_count": 5,
   "metadata": {},
   "outputs": [
    {
     "name": "stdout",
     "output_type": "stream",
     "text": [
      "abcd\n"
     ]
    }
   ],
   "source": [
    "#program number 5\n",
    "inputstring = \"aaabccddd\"\n",
    "finalstring = \"\"\n",
    "prevvalue = \"\"\n",
    "for index,value in enumerate(inputstring):\n",
    "\tif prevvalue == value:\n",
    "\t\tcontinue\n",
    "\tprevvalue = value\n",
    "\tfindvalue = inputstring.count(value)\n",
    "\tnewstring = inputstring[findvalue:]\n",
    "\tinputstring = newstring\n",
    "\tfinalstring = finalstring + value\n",
    "print(finalstring)"
   ]
  },
  {
   "cell_type": "code",
   "execution_count": 6,
   "metadata": {},
   "outputs": [
    {
     "name": "stdout",
     "output_type": "stream",
     "text": [
      "aipgsqi\n"
     ]
    }
   ],
   "source": [
    "#program number 6\n",
    "inputstring = \"welcome\"\n",
    "inputstring = inputstring.lower()\n",
    "shiftval = 4\n",
    "finalstring = \"\"\n",
    "#range varies between 97 & 122\n",
    "# ord(), chr()\n",
    "for value in inputstring:\n",
    "\tasciival = ord(value)\n",
    "\tshiftvalby = asciival + shiftval\n",
    "\tdiff = 0\n",
    "\tif shiftvalby > 122:\n",
    "\t\tdiff = 96 + (shiftvalby - 122)\n",
    "\telse:\n",
    "\t\tdiff = shiftvalby\n",
    "\tfinalstring = finalstring + chr(diff)\n",
    "print(finalstring)"
   ]
  },
  {
   "cell_type": "code",
   "execution_count": 7,
   "metadata": {},
   "outputs": [
    {
     "name": "stdout",
     "output_type": "stream",
     "text": [
      "[(2, 5), (3, 4), (4, 3), (5, 2)]\n"
     ]
    }
   ],
   "source": [
    "#program number 7\n",
    "num = [1,2,3,4,5]\n",
    "sum = 7\n",
    "finallist = []\n",
    "for i,val in enumerate(num):\n",
    "\tfor j, jval in enumerate(num[i:]):\n",
    "\t\tinternalsum = val + jval\n",
    "\t\tif internalsum == sum:\n",
    "\t\t\tfinallist.append((val,jval))\n",
    "\tif i > 0:\n",
    "\t\tfor j, jval in enumerate(num[:i]):\n",
    "\t\t\tinternalsum = val + jval\n",
    "\t\t\tif internalsum == sum:\n",
    "\t\t\t\tfinallist.append((val,jval))\n",
    "\n",
    "print(finallist)"
   ]
  },
  {
   "cell_type": "code",
   "execution_count": 10,
   "metadata": {},
   "outputs": [
    {
     "name": "stdout",
     "output_type": "stream",
     "text": [
      "[(-1, 1)]\n"
     ]
    }
   ],
   "source": [
    "#partial implementation of program number 8. IMPORTANT: I WILL NEED TO IMPLEMENT IT COMPLETELY, HAVEN'T DONE YET\n",
    "numlist =  [4,-3,-2,-1,1]\n",
    "finallist = []\n",
    "templist = []\n",
    "for i, val in enumerate(numlist):\n",
    "\tprevsum = 0\n",
    "\tprevsum += val\n",
    "\ttemplist = []\n",
    "\ttemplist.append(val)\n",
    "\tfor j, jval in enumerate(numlist[i+1:]):\n",
    "\t\ttemplist.append(jval)\n",
    "\t\tprevsum += jval\n",
    "\t\tif prevsum == 0:\n",
    "\t\t\tfinallist.append(tuple(templist))\n",
    "\t\t\tbreak\n",
    "\t\telse:\n",
    "\t\t\tcontinue\n",
    "print(finallist)"
   ]
  },
  {
   "cell_type": "code",
   "execution_count": 11,
   "metadata": {},
   "outputs": [
    {
     "name": "stdout",
     "output_type": "stream",
     "text": [
      "[1, 3, 5]\n"
     ]
    }
   ],
   "source": [
    "#Program number 9\n",
    "numbers = [1, 3, 5, 4, 2]\n",
    "finallist = []\n",
    "totalnumberinlist = 0\n",
    "for val in numbers:\n",
    "\ttotalnumberinlist += 1\n",
    "\n",
    "for i,value in enumerate(numbers):\n",
    "\tif i == totalnumberinlist - 1:\n",
    "\t\t#do reverse, reached the end, enumerate one more time to make it proper\n",
    "\t\tfor j, jval in enumerate(numbers[-1:]):\n",
    "\t\t\tif (numbers[j] + numbers[j-1]) % 2 == 0:\n",
    "\t\t\t\tcontinue\n",
    "\t\t\telse:\n",
    "\t\t\t\tnumbers.pop(j-1)\n",
    "\t\t\t\ttotalnumberinlist -= 1\n",
    "\telse:\n",
    "\t\tif (numbers[i] + numbers[i+1]) % 2 == 0:\n",
    "\t\t\tcontinue\n",
    "\t\telse:\n",
    "\t\t\tnumbers.pop(i+1)\n",
    "\t\t\ttotalnumberinlist -= 1\n",
    "print(numbers)"
   ]
  },
  {
   "cell_type": "code",
   "execution_count": 12,
   "metadata": {},
   "outputs": [
    {
     "name": "stdout",
     "output_type": "stream",
     "text": [
      "[2000, 2002, 2004, 2006, 2008, 2020, 2022, 2024, 2026, 2028, 2040, 2042, 2044, 2046, 2048, 2060, 2062, 2064, 2066, 2068, 2080, 2082, 2084, 2086, 2088, 2200, 2202, 2204, 2206, 2208, 2220, 2222, 2224, 2226, 2228, 2240, 2242, 2244, 2246, 2248, 2260, 2262, 2264, 2266, 2268, 2280, 2282, 2284, 2286, 2288, 2400, 2402, 2404, 2406, 2408, 2420, 2422, 2424, 2426, 2428, 2440, 2442, 2444, 2446, 2448, 2460, 2462, 2464, 2466, 2468, 2480, 2482, 2484, 2486, 2488, 2600, 2602, 2604, 2606, 2608, 2620, 2622, 2624, 2626, 2628, 2640, 2642, 2644, 2646, 2648, 2660, 2662, 2664, 2666, 2668, 2680, 2682, 2684, 2686, 2688, 2800, 2802, 2804, 2806, 2808, 2820, 2822, 2824, 2826, 2828, 2840, 2842, 2844, 2846, 2848, 2860, 2862, 2864, 2866, 2868, 2880, 2882, 2884, 2886, 2888]\n"
     ]
    }
   ],
   "source": [
    "#program number 10\n",
    "listtobeprinted = []\n",
    "for value in range(1000,3001):\n",
    "\tnumbertocheck = value\n",
    "\tcanadd = True\n",
    "\twhile numbertocheck > 0:\n",
    "\t\ttempnum = numbertocheck % 10\n",
    "\t\tif tempnum % 2 == 0:\n",
    "\t\t\tcanadd = canadd and True\n",
    "\t\telse:\n",
    "\t\t\tcanadd = canadd and False\n",
    "\t\t\tbreak\n",
    "\t\tif canadd == True:\n",
    "\t\t\tnumbertocheck = numbertocheck // 10\n",
    "\tif numbertocheck == 0:\n",
    "\t\tlisttobeprinted.append(value)\n",
    "print(listtobeprinted)"
   ]
  },
  {
   "cell_type": "code",
   "execution_count": null,
   "metadata": {},
   "outputs": [],
   "source": []
  }
 ],
 "metadata": {
  "kernelspec": {
   "display_name": "Python 3",
   "language": "python",
   "name": "python3"
  },
  "language_info": {
   "codemirror_mode": {
    "name": "ipython",
    "version": 3
   },
   "file_extension": ".py",
   "mimetype": "text/x-python",
   "name": "python",
   "nbconvert_exporter": "python",
   "pygments_lexer": "ipython3",
   "version": "3.7.3"
  }
 },
 "nbformat": 4,
 "nbformat_minor": 2
}
