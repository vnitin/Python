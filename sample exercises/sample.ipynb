{
 "cells": [
  {
   "cell_type": "code",
   "execution_count": 2,
   "metadata": {},
   "outputs": [
    {
     "name": "stdout",
     "output_type": "stream",
     "text": [
      "1:4:30\n"
     ]
    }
   ],
   "source": [
    "# 1.Write a function to convert a given integer (in seconds) to hours, minutes and seconds and return the answer in H:M:S using positional arg passing technique.\n",
    "\n",
    "def convert_time(seconds):\n",
    "\tminute = seconds // 60\n",
    "\thour = minute // 60\n",
    "\tsecond = seconds - (minute * 60)\n",
    "\n",
    "\tif minute > 60:\n",
    "\t\tminute = minute % 60\n",
    "\t\n",
    "\tprint(hour,minute,second,sep=\":\")\n",
    "\n",
    "\n",
    "sec = 3870\n",
    "convert_time(sec)"
   ]
  },
  {
   "cell_type": "code",
   "execution_count": 3,
   "metadata": {},
   "outputs": [
    {
     "name": "stdout",
     "output_type": "stream",
     "text": [
      "900.0\n",
      "540.0\n",
      "81.0\n"
     ]
    }
   ],
   "source": [
    "# 2.Given a dictionary of items & their unit prices and the items bought & the quantity, write a function to calculate the total cost of the items plus a given tax using variable length keyword args. If item doesn't exist, the item is ignored. Output should be rounded to two decimal places.\n",
    "\n",
    "def calculate_cost(**kwargs):\n",
    "\tinput_cost = {\"A\":2500,\"B\":1000,\"C\":500,\"D\":450}\n",
    "\ttax = 0.18\n",
    "\n",
    "\tfor x,val in enumerate(kwargs):\n",
    "\t\t\n",
    "\t\tvalue = input_cost.get(val, -1)\n",
    "\t\tif value == -1:\n",
    "\t\t\tprint(\"Input cost doesn't exist for this:\", val)\n",
    "\t\t\tbreak\n",
    "\t\ttotal_cost = value * kwargs[val] * tax\n",
    "\t\tprint(total_cost)\n",
    "\n",
    "calculate_cost(A=2)\n",
    "calculate_cost(B=3)\n",
    "calculate_cost(D=1)  "
   ]
  },
  {
   "cell_type": "code",
   "execution_count": 4,
   "metadata": {},
   "outputs": [
    {
     "name": "stdout",
     "output_type": "stream",
     "text": [
      "{'username': 'ABC', 'Id': 101, 'name': 'XYZ'}\n"
     ]
    }
   ],
   "source": [
    "# 4.Write a function to add all key value pairs to a dict from nested dictionary.\n",
    "\n",
    "def simplify(sample_dict):\n",
    "\tnewlist = {}\n",
    "\tfor x, val in enumerate(sample_dict):\n",
    "\t\tif type(sample_dict[val]) == dict:\n",
    "\t\t\tnewlist.update(simplify(sample_dict[val]))\n",
    "\t\telse:\n",
    "\t\t\tnewlist.setdefault(val, sample_dict[val])\n",
    "\treturn newlist\n",
    "\n",
    "\n",
    "sample_dict = {\"username\": \"ABC\",\"channel\":{\"Id\": 101,\"name\": \"XYZ\"}}\n",
    "print(simplify(sample_dict))"
   ]
  },
  {
   "cell_type": "code",
   "execution_count": 6,
   "metadata": {},
   "outputs": [
    {
     "name": "stdout",
     "output_type": "stream",
     "text": [
      "nitin_verma09@gmail09.ccdd\n"
     ]
    }
   ],
   "source": [
    "import re\n",
    "\n",
    "s = \"nitin_verma09@gmail09.ccdd\"\n",
    "r = re.compile(\"^[a-zA-Z]+[0-9]*(\\.)?(-)?(_)?[a-zA-Z]+[0-9]*@[a-zA-Z]+[0-9]*(-)?(\\.)([a-zA-Z]{2})+$\")\n",
    "m = re.search(r,s)\n",
    "if m:\n",
    "\tprint(m.group())\n",
    "else:\n",
    "\tprint(\"you did it wrong\")"
   ]
  },
  {
   "cell_type": "code",
   "execution_count": 7,
   "metadata": {},
   "outputs": [
    {
     "name": "stdout",
     "output_type": "stream",
     "text": [
      "['https://www.zekelabs.com/code', 'http://www.github.com/zekelabs']\n"
     ]
    }
   ],
   "source": [
    "# 2. Write a program to extract all the links from a given string Input string : \"Link to the code file is https://www.zekelabs.com/code or http://www.github.com/zekelabs\"\n",
    "import re \n",
    "s = \"Link to the code file is https://www.zekelabs.com/code or http://www.github.com/zekelabs\"\n",
    "r = re.compile(\"[a-zA-Z]+:\\/\\/[wW]{3}\\.[a-zA-Z]+[0-9]*\\.[a-zA-Z]+(?:\\/[a-zA-Z]+)\")\n",
    "l = re.findall(r, s)\n",
    "print(l)"
   ]
  },
  {
   "cell_type": "code",
   "execution_count": 8,
   "metadata": {},
   "outputs": [
    {
     "name": "stdout",
     "output_type": "stream",
     "text": [
      "you did it wrong\n"
     ]
    }
   ],
   "source": [
    "# 3.Write a program to check if given string is valid support ticket number or not.\n",
    "import re \n",
    "s = \"INC12#56\" #\"INC12345\" #\"INC12A34\"\n",
    "r = re.compile(\"^[INC]([A-Z]*[0-9]*){5}$\")\n",
    "m = re.search(r, s)\n",
    "if m:\n",
    "\tprint(m.group())\n",
    "else:\n",
    "\tprint(\"you did it wrong\")"
   ]
  },
  {
   "cell_type": "code",
   "execution_count": 10,
   "metadata": {},
   "outputs": [
    {
     "name": "stdout",
     "output_type": "stream",
     "text": [
      "+191 632417135412\n"
     ]
    }
   ],
   "source": [
    "import re\n",
    "\n",
    "s= \"+191 632417135412\"\n",
    "r = re.compile(\"(\\+[1-9]{1,3}\\s)([1-9][0-9]{9,11})$\")\n",
    "m = re.search(r, s)\n",
    "if m:\n",
    "\tprint(m.group())\n",
    "else:\n",
    "\tprint(\"wrong\")"
   ]
  },
  {
   "cell_type": "code",
   "execution_count": 2,
   "metadata": {},
   "outputs": [],
   "source": [
    "# 1.Write a program to merge two txt files to third txt file\n",
    "handle = open(\"input.txt\",\"r\")\n",
    "content = handle.read()\n",
    "handle.close()\n",
    "\n",
    "handle = open(\"input4.txt\",\"w\")\n",
    "handle.write(content)\n",
    "handle.close()\n",
    "\n",
    "handle = open(\"input2.txt\",\"r\")\n",
    "content = handle.read()\n",
    "handle.close()\n",
    "\n",
    "handle = open(\"input4.txt\",\"a\")\n",
    "handle.write(content)\n",
    "handle.close()"
   ]
  },
  {
   "cell_type": "code",
   "execution_count": null,
   "metadata": {},
   "outputs": [],
   "source": [
    "# 2.Write a program to remove empty lines from a txt file\n",
    "fp = open(\"input2.txt\",\"r+\")\n",
    "listline = fp.readlines()\n",
    "for x in listline:\n",
    "\tif x == \"\\n\":\n",
    "\t\tlistline.remove(x) \n",
    "print(listline)\n",
    "fp.seek(0,0)\n",
    "for x in listline:\n",
    "\tfp.write(x)"
   ]
  },
  {
   "cell_type": "code",
   "execution_count": null,
   "metadata": {},
   "outputs": [],
   "source": []
  }
 ],
 "metadata": {
  "kernelspec": {
   "display_name": "Python 3",
   "language": "python",
   "name": "python3"
  },
  "language_info": {
   "codemirror_mode": {
    "name": "ipython",
    "version": 3
   },
   "file_extension": ".py",
   "mimetype": "text/x-python",
   "name": "python",
   "nbconvert_exporter": "python",
   "pygments_lexer": "ipython3",
   "version": "3.7.3"
  }
 },
 "nbformat": 4,
 "nbformat_minor": 2
}
