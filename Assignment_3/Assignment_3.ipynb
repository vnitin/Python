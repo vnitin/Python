{
 "cells": [
  {
   "cell_type": "code",
   "execution_count": 2,
   "metadata": {},
   "outputs": [
    {
     "name": "stdout",
     "output_type": "stream",
     "text": [
      "{'Python': 2, 'has': 2, 'traditionally': 1, 'checked': 1, 'the': 4, 'up': 1, 'to': 2, 'dateness': 1, 'of': 1, 'bytecode': 1, 'cache': 3, 'files': 1, 'by': 1, 'comparing': 1, 'source': 3, 'metadata': 2, 'with': 1, 'saved': 1, 'in': 2, 'file': 2, 'header': 1, 'when': 1, 'it': 1, 'was': 1, 'generated': 1, '': 8, 'While': 1, 'effective': 1, 'this': 1, 'invalidation': 1, 'method': 1, 'its': 1, 'drawbacks': 1, 'When': 1, 'filesystem': 1, 'timestamps': 1, 'are': 1, 'too': 1, 'coarse': 1, 'can': 1, 'miss': 1, 'updates': 1, 'leading': 1, 'user': 1, 'confusion': 1, 'Additionally': 1, 'having': 1, 'a': 1, 'timestamp': 1, 'is': 1, 'problematic': 1, 'for': 1, 'build': 2, 'reproducibility': 1, 'and': 1, 'content': 1, 'based': 1, 'systems': 1}\n"
     ]
    }
   ],
   "source": [
    "#1. Write a program to count the number of occurrences of a word in below sentenses\n",
    "input_str = \"Python has traditionally checked the up-to-dateness of bytecode cache files by comparing the source metadata with source metadata saved in the cache file header when it was generated. While effective, this invalidation method has its drawbacks. When filesystem timestamps are too coarse, Python can miss source updates, leading to user confusion. Additionally, having a timestamp in the cache file is problematic for build reproducibility and content-based build systems.\"\n",
    "out_dict = {}\n",
    "# input_str_list = input_str.replace('-', \" \").replace(\",\", \" \").replace(\".\",\" \").split(\" \")\n",
    "input_str_list = input_str.split(\" \")\n",
    "\n",
    "for value in input_str_list:\n",
    "\tif value.isalpha():\n",
    "\t\tif value in out_dict.keys():\n",
    "\t\t\tout_dict[value] = out_dict[value] + 1\n",
    "\t\telse:\n",
    "\t\t\tout_dict[value] = 1\n",
    "\telse:\n",
    "\t\tif \"-\" in value:\n",
    "\t\t\tintern_list = value.split(\"-\")\n",
    "\t\t\tfor var in intern_list:\n",
    "\t\t\t\tif var in out_dict.keys():\n",
    "\t\t\t\t\tout_dict[var] = out_dict[var] + 1\n",
    "\t\t\t\telse:\n",
    "\t\t\t\t\tout_dict[var] = 1\n",
    "\t\tif \".\" in value:\n",
    "\t\t\tintern_list = value.split(\".\")\n",
    "\t\t\tfor var in intern_list:\n",
    "\t\t\t\tif var in out_dict.keys():\n",
    "\t\t\t\t\tout_dict[var] = out_dict[var] + 1\n",
    "\t\t\t\telse:\n",
    "\t\t\t\t\tout_dict[var] = 1\n",
    "\t\tif \",\" in value:\n",
    "\t\t\tintern_list = value.split(\",\")\n",
    "\t\t\tfor var in intern_list:\n",
    "\t\t\t\tif var in out_dict.keys():\n",
    "\t\t\t\t\tout_dict[var] = out_dict[var] + 1\n",
    "\t\t\t\telse:\n",
    "\t\t\t\t\tout_dict[var] = 1\n",
    "print(out_dict)"
   ]
  },
  {
   "cell_type": "code",
   "execution_count": 3,
   "metadata": {},
   "outputs": [
    {
     "name": "stdout",
     "output_type": "stream",
     "text": [
      "{'Concord': ['New Hampshire', 'Massachusetts'], 'Hanover': ['New Hampshire'], 'Boston': ['Massachusetts'], 'Springfield': ['Massachusetts', 'Illinois'], 'Chicago': ['Illinois'], 'Peoria': ['Illinois']}\n"
     ]
    }
   ],
   "source": [
    "# 2.Given a dictionary that associates the names of states with a list of the names of cities that appear in it,write a program that creates a new dictionary that associates the name of a city with the list of states that it appears in.\n",
    "# As an example, if the first dictionary is\n",
    "states = {'New Hampshire': ['Concord', 'Hanover'],'Massachusetts': ['Boston', 'Concord', 'Springfield'],'Illinois': ['Chicago', 'Springfield', 'Peoria']}\n",
    "cities = {}\n",
    "\n",
    "for value in states:\n",
    "\tfor city in states[value]:\n",
    "\t\tif city in cities.keys():\n",
    "\t\t\tcitypair = cities[city]\n",
    "\t\t\tcitypair.append(value)\n",
    "\t\t\tcities[city] = citypair\n",
    "\t\t\tpass\n",
    "\t\telse:\n",
    "\t\t\tcitypair = []\n",
    "\t\t\tcitypair.append(value)\n",
    "\t\t\tcities[city] = citypair\n",
    "print(cities)"
   ]
  },
  {
   "cell_type": "code",
   "execution_count": 9,
   "metadata": {},
   "outputs": [
    {
     "name": "stdout",
     "output_type": "stream",
     "text": [
      "{(0, 9): 0, (10, 19): 1, (20, 29): 0, (30, 39): 1, (40, 49): 0, (50, 59): 2, (60, 69): 0, (70, 79): 4, (80, 89): 2, (90, 100): 3}\n"
     ]
    }
   ],
   "source": [
    "input_scores = [ 12, 90, 100, 52, 56, 76, 92, 83, 39, 77, 73, 70, 80 ]\n",
    "output = {}\n",
    "# create list of tuple\n",
    "list1 = []\n",
    "for x in range(0,100,10):\n",
    "\tlist1.append(x)\n",
    "list2 = []\n",
    "for x in range(9,108,10):\n",
    "\tif x == 99:\n",
    "\t\tx += 1\n",
    "\tlist2.append(x)\n",
    "\n",
    "d1 = dict(zip(list1, list2))\n",
    "\n",
    "for x in d1.items():\n",
    "\toutput.setdefault(x,0)\n",
    "\n",
    "input_scores = sorted(input_scores)\n",
    "for value in input_scores:\n",
    "\tif value < 10:\n",
    "\t\toutput[(0,9)] = output.get((0,9),0) + 1\n",
    "\telif value >= 10 and value < 20:\n",
    "\t\t output[(10,19)] = output.get((10,19),0) + 1\n",
    "\telif value >= 20 and value < 30:\n",
    "\t\t output[(20,29)] = output.get((20,29),0) + 1\n",
    "\telif value >= 30 and value < 40:\n",
    "\t\t output[(30,39)] = output.get((30,39),0) + 1\n",
    "\telif value >= 40 and value < 50:\n",
    "\t\t output[(40,49)] = output.get((40,49),0) + 1\n",
    "\telif value >= 50 and value < 60:\n",
    "\t\t output[(50,59)] = output.get((50,59),0) + 1\n",
    "\telif value >= 60 and value < 70:\n",
    "\t\t output[(60,69)] = output.get((60,69),0) + 1\n",
    "\telif value >= 70 and value < 80:\n",
    "\t\t output[(70,79)] = output.get((70,79),0) + 1\n",
    "\telif value >= 80 and value < 90:\n",
    "\t\t output[(80,89)] = output.get((80,89),0) + 1\n",
    "\telif value >= 90 and value <= 100:\n",
    "\t\t output[(90,100)] = output.get((90,100),0) + 1\n",
    "print(output)"
   ]
  },
  {
   "cell_type": "code",
   "execution_count": 5,
   "metadata": {},
   "outputs": [
    {
     "name": "stdout",
     "output_type": "stream",
     "text": [
      "Acme\n",
      "{'name': 'Bella Troy', 'type': 'Italian', 'ratings': [1, 4, 5]}\n"
     ]
    }
   ],
   "source": [
    "# 4.\n",
    "restaurants = [[\"Acme\", \"Italian\", 2, 4, 3, 5],[\"Flintstone\", \"Steak\", 5, 2, 4, 3, 3, 4],[ \"Bella Troy\", \"Italian\", 1, 4, 5] ]\n",
    "rest_dict = {}\n",
    "intern_dict = {}\n",
    "for value in restaurants:\n",
    "\tintern_dict.clear()\n",
    "\tintern_dict.setdefault(\"name\", value[0])\n",
    "\tintern_dict.setdefault(\"type\", value[1])\n",
    "\tintern_dict.setdefault(\"ratings\", list(value[2:]))\n",
    "\tif intern_dict[\"type\"] == \"Italian\" and (1 not in intern_dict[\"ratings\"]):\n",
    "\t\tprint(intern_dict[\"name\"])\n",
    "\n",
    "\trest_dict.update(intern_dict)\n",
    "print(rest_dict)"
   ]
  },
  {
   "cell_type": "code",
   "execution_count": 6,
   "metadata": {},
   "outputs": [
    {
     "name": "stdout",
     "output_type": "stream",
     "text": [
      "zeke\n"
     ]
    }
   ],
   "source": [
    "# 5.In the pre-smartphone era,each number key is assigned a subset of the alphabet {a,b,…,z}: 2 is assigned the subset {a,b,c}, 3 is assigned {d,e,f}, 4 is assigned {g,h,i}, 5 is assigned {j,k,l}, 6 is assigned {m,n,o}, 7 is assigned {p,q,r,s}, 8 is assigned {t,u,v} and 9 is assigned {w,x,y,z}.\n",
    "number_key_dict = {2:{'a','b','c'},3:{'d','e','f'},4:{'g','h','i'},5:{'j','k','l'},6:{'m','n','o'},7:{'p','q','r','s'},8:{'t','u','v'},9:{'w','x','y','z'}}\n",
    "number_to_check = 9999335533\n",
    "last_num = 0\n",
    "last_num_count = 0\n",
    "final_string = \"\"\n",
    "\n",
    "for value in number_key_dict:\n",
    "\tnumber_key_dict[value] = sorted(list(number_key_dict[value]))\n",
    "\n",
    "while number_to_check > 1:\n",
    "\n",
    "\tcurrent_num = number_to_check % 10\n",
    "\tnumber_to_check = number_to_check // 10\n",
    "\t\n",
    "\tif last_num == current_num:\n",
    "\t\tlast_num_count += 1\n",
    "\t\t\n",
    "\telif last_num == 0:\n",
    "\t\tlast_num = current_num\n",
    "\n",
    "\telse:\n",
    "\t\tif last_num != current_num:\n",
    "\t\t\tfinal_string += number_key_dict[last_num][last_num_count]\n",
    "\t\t\n",
    "\t\tlast_num = current_num\n",
    "\t\tlast_num_count = 0\n",
    "\n",
    "\tif number_to_check == 0:\n",
    "\t\tfinal_string += number_key_dict[last_num][last_num_count]\n",
    "\t\t\n",
    "print(final_string[::-1])"
   ]
  },
  {
   "cell_type": "code",
   "execution_count": 7,
   "metadata": {},
   "outputs": [
    {
     "name": "stdout",
     "output_type": "stream",
     "text": [
      "{'id_500', 'id_300'}\n"
     ]
    }
   ],
   "source": [
    "# 6.Given a dictionary called clubs where each key is the name of a club (a string), and each value is the set of id strings for the students in the club. Write a segment of Python code that creates a set of all student ids that are in all the clubs in the dictionary\n",
    "clubs={\"club1\":{\"id_100\",\"id_300\",\"id_500\"},\"club2\":{\"id_200\",\"id_300\",\"id_400\",\"id_500\"},\"club3\":{\"id_400\",\"id_300\",\"id_500\"}}\n",
    "student_set = {}\n",
    "for key,value in enumerate(clubs):\n",
    "\tif key == 0:\n",
    "\t\tstudent_set = clubs[value]\n",
    "\telse:\n",
    "\t\tstudent_set = student_set.intersection(clubs[value])\n",
    "\t\t\n",
    "print(student_set)"
   ]
  },
  {
   "cell_type": "code",
   "execution_count": 8,
   "metadata": {},
   "outputs": [
    {
     "name": "stdout",
     "output_type": "stream",
     "text": [
      "{'heart', 'hail', 'college', 'the', 'of'}\n",
      "{'old', 'rensselaer'}\n",
      "{'dear', 'we', 'our'}\n"
     ]
    }
   ],
   "source": [
    "# 7.You are given three sentences in three strings str1,str2,str3. Assume the sentences contain no punctuation and have a single space between the words. \n",
    "first_str = \"Hail dear old Rensselaer the college of our heart\" \n",
    "second_str = \"For dear old Rensselaer we all must do our part\" \n",
    "third_str = \"True to old Rensselaer we will always strive to be\"\n",
    "# convert all strings to list & set\n",
    "first_str = set(first_str.lower().split(\" \"))\n",
    "second_str = set(second_str.lower().split(\" \"))\n",
    "third_str = set(third_str.lower().split(\" \"))\n",
    "\n",
    "# first solution\n",
    "first_output = (first_str.difference(second_str)).difference(third_str)\n",
    "print(first_output)\n",
    "\n",
    "# second solution\n",
    "second_output = (first_str.intersection(second_str)).intersection(third_str)\n",
    "print(second_output)\n",
    "\n",
    "# third solution\n",
    "first_intersection = first_str.intersection(second_str).difference(third_str)\n",
    "second_intersection = second_str.intersection(third_str).difference(first_str)\n",
    "third_intersection = third_str.intersection(first_str).difference(second_str)\n",
    "third_output = first_intersection.union(second_intersection).union(third_intersection)\n",
    "print(third_output)"
   ]
  },
  {
   "cell_type": "code",
   "execution_count": null,
   "metadata": {},
   "outputs": [],
   "source": []
  }
 ],
 "metadata": {
  "kernelspec": {
   "display_name": "Python 3",
   "language": "python",
   "name": "python3"
  },
  "language_info": {
   "codemirror_mode": {
    "name": "ipython",
    "version": 3
   },
   "file_extension": ".py",
   "mimetype": "text/x-python",
   "name": "python",
   "nbconvert_exporter": "python",
   "pygments_lexer": "ipython3",
   "version": "3.7.3"
  }
 },
 "nbformat": 4,
 "nbformat_minor": 2
}
