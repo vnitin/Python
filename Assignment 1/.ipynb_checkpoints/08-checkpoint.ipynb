{
 "cells": [
  {
   "cell_type": "code",
   "execution_count": null,
   "metadata": {},
   "outputs": [],
   "source": [
    "num = 50\n",
    "while num >= 1:\n",
    "\tif num % 2 == 0:\n",
    "\t\tnum = num / 2\n",
    "\tif num % 2 != 0:\n",
    "\t\tnum = num * 3\n",
    "\t\tnum += 1\n",
    "\tif num == 1:\n",
    "\t\tbreak\n",
    "else:\n",
    "\tprint(\"Not sure of the indefinite loop\")\n",
    "print(num)"
   ]
  },
  {
   "cell_type": "code",
   "execution_count": null,
   "metadata": {},
   "outputs": [],
   "source": []
  }
 ],
 "metadata": {
  "kernelspec": {
   "display_name": "Python 3",
   "language": "python",
   "name": "python3"
  },
  "language_info": {
   "codemirror_mode": {
    "name": "ipython",
    "version": 3
   },
   "file_extension": ".py",
   "mimetype": "text/x-python",
   "name": "python",
   "nbconvert_exporter": "python",
   "pygments_lexer": "ipython3",
   "version": "3.7.3"
  }
 },
 "nbformat": 4,
 "nbformat_minor": 2
}
