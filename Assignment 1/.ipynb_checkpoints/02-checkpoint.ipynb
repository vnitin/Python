{
 "cells": [
  {
   "cell_type": "code",
   "execution_count": 1,
   "metadata": {},
   "outputs": [
    {
     "name": "stdout",
     "output_type": "stream",
     "text": [
      "triangle is valid\n"
     ]
    }
   ],
   "source": [
    "angleSet = (70,60,50)\n",
    "sumOfAllAngles = 0\n",
    "for index, value in enumerate(angleSet):\n",
    "\tif index <= 2: # to avoid if angle set is incorrect\n",
    "\t\tif value == 0:\n",
    "\t\t\tprint(\"value of cannot be zero. Found a zero value at index\", index)\n",
    "\t\t\tbreak\n",
    "\t\telse:\n",
    "\t\t\tsumOfAllAngles += value\n",
    "\t\t\tcontinue\n",
    "\n",
    "if sumOfAllAngles == 180:\n",
    "\tprint(\"triangle is valid\")\n",
    "else:\n",
    "\tprint(\"triangle is invalid\")"
   ]
  },
  {
   "cell_type": "code",
   "execution_count": 1,
   "metadata": {},
   "outputs": [
    {
     "name": "stdout",
     "output_type": "stream",
     "text": [
      "triangle is valid\n"
     ]
    }
   ],
   "source": [
    "# Another solution\n",
    "angleSet = (70,60,50)\n",
    "sumOfAllAngles = 0\n",
    "if len(angleSet) > 3:\n",
    "\tprint(\"not a valid angle set\")\n",
    "else:\n",
    "\tfor index, value in enumerate(angleSet):\n",
    "\t\tif value == 0:\n",
    "\t\t\tprint(\"value of cannot be zero. Found a zero value at index\", index)\n",
    "\t\t\tbreak\n",
    "\t\telse:\n",
    "\t\t\tsumOfAllAngles += value\n",
    "\t\t\tcontinue\n",
    "\telse:\t\t\n",
    "\t\tif sumOfAllAngles == 180:\n",
    "\t\t\tprint(\"triangle is valid\")\n",
    "\t\telse:\n",
    "\t\t\tprint(\"triangle is invalid\")"
   ]
  },
  {
   "cell_type": "code",
   "execution_count": null,
   "metadata": {},
   "outputs": [],
   "source": []
  }
 ],
 "metadata": {
  "kernelspec": {
   "display_name": "Python 3",
   "language": "python",
   "name": "python3"
  },
  "language_info": {
   "codemirror_mode": {
    "name": "ipython",
    "version": 3
   },
   "file_extension": ".py",
   "mimetype": "text/x-python",
   "name": "python",
   "nbconvert_exporter": "python",
   "pygments_lexer": "ipython3",
   "version": "3.7.3"
  }
 },
 "nbformat": 4,
 "nbformat_minor": 2
}
