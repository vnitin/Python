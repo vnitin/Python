{
 "cells": [
  {
   "cell_type": "code",
   "execution_count": 1,
   "metadata": {},
   "outputs": [
    {
     "name": "stdout",
     "output_type": "stream",
     "text": [
      "tip amount for purchase value of 300 is 45.0\n"
     ]
    }
   ],
   "source": [
    "a = 300\n",
    "b = 3\n",
    "tip = 0\n",
    "\n",
    "if b > 5:\n",
    "\tprint(\"invalid quality of service value\")\n",
    "else:\n",
    "\tif b == 1:\n",
    "\t\ttip = a * 0.05\n",
    "\telif b == 2:\n",
    "\t\ttip = a * 0.1\n",
    "\telif b == 3:\n",
    "\t\ttip = a * 0.15\n",
    "\telif b == 4:\n",
    "\t\ttip = a * 0.2\n",
    "\telif b == 5:\n",
    "\t\ttip = a * 0.25\n",
    "\tprint(\"tip amount for purchase value of\",a,\"is\",tip)"
   ]
  },
  {
   "cell_type": "code",
   "execution_count": null,
   "metadata": {},
   "outputs": [],
   "source": []
  }
 ],
 "metadata": {
  "kernelspec": {
   "display_name": "Python 3",
   "language": "python",
   "name": "python3"
  },
  "language_info": {
   "codemirror_mode": {
    "name": "ipython",
    "version": 3
   },
   "file_extension": ".py",
   "mimetype": "text/x-python",
   "name": "python",
   "nbconvert_exporter": "python",
   "pygments_lexer": "ipython3",
   "version": "3.7.3"
  }
 },
 "nbformat": 4,
 "nbformat_minor": 2
}
