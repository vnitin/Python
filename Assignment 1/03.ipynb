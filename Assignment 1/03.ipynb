{
 "cells": [
  {
   "cell_type": "code",
   "execution_count": 2,
   "metadata": {},
   "outputs": [
    {
     "name": "stdout",
     "output_type": "stream",
     "text": [
      "Total electricity bill for units 240 is 249.6\n"
     ]
    }
   ],
   "source": [
    "inputUnit = 240\n",
    "\n",
    "totalBill = 0\n",
    "\n",
    "if inputUnit > 250:\n",
    "\ttotalBill = inputUnit * 1.5\n",
    "elif inputUnit > 150 and inputUnit <= 250:\n",
    "\tinputUnit -= 150\n",
    "\ttotalBill += (inputUnit * 1.2)\t\t\n",
    "\ttotalBill += (100 * 0.75)\n",
    "\ttotalBill += (50 * 0.5)\n",
    "\t#reset the inputUnit\n",
    "\tinputUnit += 150\n",
    "elif inputUnit > 50 and inputUnit <= 150:\n",
    "\tinputUnit -= 50\n",
    "\ttotalBill += (inputUnit * 0.75)\t\n",
    "\ttotalBill += (50 * 0.5)\t\n",
    "\t#reset the inputUnit\n",
    "\tinputUnit += 50\n",
    "elif inputUnit <= 50:\n",
    "\ttotalBill += (inputUnit * 0.5)\n",
    "\n",
    "totalBill += (totalBill * 0.2 )\n",
    "print(\"Total electricity bill for units\", inputUnit, \"is\", totalBill)"
   ]
  },
  {
   "cell_type": "code",
   "execution_count": null,
   "metadata": {},
   "outputs": [],
   "source": []
  }
 ],
 "metadata": {
  "kernelspec": {
   "display_name": "Python 3",
   "language": "python",
   "name": "python3"
  },
  "language_info": {
   "codemirror_mode": {
    "name": "ipython",
    "version": 3
   },
   "file_extension": ".py",
   "mimetype": "text/x-python",
   "name": "python",
   "nbconvert_exporter": "python",
   "pygments_lexer": "ipython3",
   "version": "3.7.3"
  }
 },
 "nbformat": 4,
 "nbformat_minor": 2
}
