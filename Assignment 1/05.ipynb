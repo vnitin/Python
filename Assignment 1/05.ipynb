{
 "cells": [
  {
   "cell_type": "code",
   "execution_count": 1,
   "metadata": {},
   "outputs": [
    {
     "name": "stdout",
     "output_type": "stream",
     "text": [
      "2000= 2 ,500= 1 ,100= 0 ,20= 1 ,10= 1\n"
     ]
    }
   ],
   "source": [
    "amount = 4530\n",
    "dictionary = {\"2000\":0,\"500\":0,\"100\":0,\"50\":0,\"20\":0,\"10\":0}\n",
    "# valid notes 10, 20, 50, 100, 500, 2000\n",
    "\n",
    "div = amount // 2000\n",
    "if div >= 1:\n",
    "\tdictionary[\"2000\"]=div\n",
    "\tamount -= (2000 * div)\n",
    "\n",
    "if amount >= 500:\n",
    "\tdiv = amount // 500\n",
    "\tif div >= 1:\n",
    "\t\tdictionary[\"500\"]=div\n",
    "\t\tamount -= (500 * div)\n",
    "\n",
    "if amount >= 100:\n",
    "\tdiv = amount // 100\n",
    "\tif div >= 1:\n",
    "\t\tdictionary[\"100\"]=div\n",
    "\t\tamount -= (100 * div)\n",
    "\n",
    "if amount >= 50:\n",
    "\tdiv = amount // 50\n",
    "\tif div >= 1:\n",
    "\t\tdictionary[\"50\"]=div\n",
    "\t\tamount -= (50 * div)\n",
    "\n",
    "if amount >= 20:\n",
    "\tdiv = amount // 20\n",
    "\tif div >= 1:\n",
    "\t\tdictionary[\"20\"]=div\n",
    "\t\tamount -= (20 * div)\n",
    "\n",
    "if amount >= 10:\n",
    "\tdiv = amount // 10\n",
    "\tif div >= 1:\n",
    "\t\tdictionary[\"10\"]=div\n",
    "\t\tamount -= (10 * div)\n",
    "\n",
    "print(\"2000=\",dictionary[\"2000\"],\",500=\",dictionary[\"500\"],\",100=\",dictionary[\"100\"],\",20=\",dictionary[\"20\"],\",10=\",dictionary[\"10\"])"
   ]
  },
  {
   "cell_type": "code",
   "execution_count": null,
   "metadata": {},
   "outputs": [],
   "source": []
  }
 ],
 "metadata": {
  "kernelspec": {
   "display_name": "Python 3",
   "language": "python",
   "name": "python3"
  },
  "language_info": {
   "codemirror_mode": {
    "name": "ipython",
    "version": 3
   },
   "file_extension": ".py",
   "mimetype": "text/x-python",
   "name": "python",
   "nbconvert_exporter": "python",
   "pygments_lexer": "ipython3",
   "version": "3.7.3"
  }
 },
 "nbformat": 4,
 "nbformat_minor": 2
}
